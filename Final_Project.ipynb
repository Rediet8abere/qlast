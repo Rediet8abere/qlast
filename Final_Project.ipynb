{
 "cells": [
  {
   "cell_type": "code",
   "execution_count": 2,
   "metadata": {},
   "outputs": [
    {
     "name": "stdout",
     "output_type": "stream",
     "text": [
      "e [-0.07080345768887986, -0.854005018976971, 0.09279341973493693, -0.7027282976819635, 0.8486313900604179, 0.27461567394924424, -0.10646065367573909, -0.24159154826367946, 0.1787104532875632, 0.12309415043785421, -0.2561854961798238, 0.04919390993921713, 0.4857376851539126, -0.09287412438903075, -0.19845479884539596, 0.19145715968393207, 0.27886955345440945]\n",
      "e variance 0.15385767404191092\n",
      "e mean 2.481674996220938e-16\n",
      "mse 0.1538576740419109\n"
     ]
    },
    {
     "data": {
      "image/png": "[encoded data removed]",
      "text/plain": [
       "<Figure size 432x288 with 1 Axes>"
      ]
     },
     "metadata": {
      "needs_background": "light"
     },
     "output_type": "display_data"
    }
   ],
   "source": [
    "import numpy as np\n",
    "import matplotlib.pyplot as plt\n",
    "\n",
    "# Running Distance in Mile\n",
    "x = np.array([3.3,4.4,5.5,6.71,6.93,4.168,9.779,6.182,7.59,2.167,\n",
    "                         7.042,10.791,5.313,7.997,5.654,9.27,3.1])\n",
    "\n",
    "# Water Drinks in Litre\n",
    "y = np.array([1.7,2.76,2.09,3.19,1.694,1.573,3.366,2.596,2.53,1.221,\n",
    "                         2.827,3.465,1.65,2.904,2.42,2.94,1.3])\n",
    "\n",
    "# plt.scatter(x, y)\n",
    "# plt.xlabel('Running Distance (Mile)')\n",
    "# plt.ylabel('Water Drinks (Litre)')\n",
    "\n",
    "# Question 1\n",
    "def min_sq_error(y, x, w1, w0):\n",
    "    N = len(y)\n",
    "    square_error = []\n",
    "    e = []\n",
    "    for i in range(len(x)):\n",
    "        y_pred = w1*x[i] + w0\n",
    "        e.append(y_pred - y[i]) \n",
    "        square_error.append(( y_pred - y[i])**2)  \n",
    "    mean_square_error = np.sum(square_error)/N\n",
    "    print(\"e\", e)\n",
    "    # Question 4\n",
    "    print(\"e variance\", np.var(e))\n",
    "    print(\"e mean\", np.mean(e))\n",
    "    return mean_square_error\n",
    "# print(min_sq_error(y, x, 0.7, 0.3))\n",
    "# print(min_sq_error(y, x, 0.25163494, 0.79880123))\n",
    "\n",
    "\n",
    "# Question 2\n",
    "# print(\"mean of x\", np.mean(x))\n",
    "# print(\"mean of y\", np.mean(y))\n",
    "# x_times_y = []\n",
    "# x_squared = []\n",
    "# for i in range(len(x)):\n",
    "#     x_times_y.append(x[i]*y[i])\n",
    "#     x_squared.append(x[i]**2)\n",
    "# # print(x_times_y)\n",
    "# print(\"mean of x times y\", np.mean(x_times_y))\n",
    "# print(\"mean of x_squared\", np.mean(x_squared))\n",
    "# print(\"x_squared\", x_squared)\n",
    "\n",
    "# Question 3\n",
    "def slope_intercept_LR(x, y):\n",
    "    mean_x = np.mean(x)\n",
    "    mean_y = np.mean(y)\n",
    "    x_times_y = []\n",
    "    x_squared = []\n",
    "    for i in range(len(x)):\n",
    "        x_times_y.append(x[i]*y[i])\n",
    "        x_squared.append(x[i]**2)\n",
    "    mean_x_squared = np.mean(x_squared)\n",
    "    w1 = (np.mean(x_times_y) - (mean_x*mean_y))/(mean_x_squared - (mean_x)**2)\n",
    "#     print(w1)\n",
    "    w0 = mean_y - (mean_x*w1)\n",
    "    return w1, w0\n",
    "# print(slope_intercept_LR(x, y))\n",
    "\n",
    "\n",
    "# Write a function that calculate variance and mean of list $E\n",
    "\n",
    "def variance_and_mean_of_E(y, x):\n",
    "    intercept = slope_intercept_LR(x, y)\n",
    "    w1 = intercept[0]\n",
    "    w2 = intercept[1]\n",
    "    mse = min_sq_error(y, x, w1, w2)\n",
    "    predicted_y_values = list(map(lambda x: w1*x +  w2, x))\n",
    "    plt.scatter(x, y)\n",
    "    plt.plot(x, predicted_y_values, 'ro-')\n",
    "    print(\"mse\", mse)\n",
    "\n",
    "variance_and_mean_of_E(y, x)"
   ]
  },
  {
   "cell_type": "code",
   "execution_count": null,
   "metadata": {},
   "outputs": [],
   "source": []
  }
 ],
 "metadata": {
  "kernelspec": {
   "display_name": "Python 3",
   "language": "python",
   "name": "python3"
  },
  "language_info": {
   "codemirror_mode": {
    "name": "ipython",
    "version": 3
   },
   "file_extension": ".py",
   "mimetype": "text/x-python",
   "name": "python",
   "nbconvert_exporter": "python",
   "pygments_lexer": "ipython3",
   "version": "3.7.4"
  }
 },
 "nbformat": 4,
 "nbformat_minor": 2
}
