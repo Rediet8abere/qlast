{
 "cells": [
  {
   "cell_type": "code",
   "execution_count": 49,
   "metadata": {},
   "outputs": [
    {
     "ename": "TypeError",
     "evalue": "variance_and_mean_of_E() missing 1 required positional argument: 'x'",
     "output_type": "error",
     "traceback": [
      "\u001b[0;31m---------------------------------------------------------------------------\u001b[0m",
      "\u001b[0;31mTypeError\u001b[0m                                 Traceback (most recent call last)",
      "\u001b[0;32m<ipython-input-49-56229191e5f1>\u001b[0m in \u001b[0;36m<module>\u001b[0;34m\u001b[0m\n\u001b[1;32m     61\u001b[0m \u001b[0;31m# print(w1)\u001b[0m\u001b[0;34m\u001b[0m\u001b[0;34m\u001b[0m\u001b[0;34m\u001b[0m\u001b[0m\n\u001b[1;32m     62\u001b[0m \u001b[0;31m# print(w0)\u001b[0m\u001b[0;34m\u001b[0m\u001b[0;34m\u001b[0m\u001b[0;34m\u001b[0m\u001b[0m\n\u001b[0;32m---> 63\u001b[0;31m \u001b[0mprint\u001b[0m\u001b[0;34m(\u001b[0m\u001b[0mmin_sq_error\u001b[0m\u001b[0;34m(\u001b[0m\u001b[0my\u001b[0m\u001b[0;34m,\u001b[0m \u001b[0mx\u001b[0m\u001b[0;34m,\u001b[0m \u001b[0;36m0.7\u001b[0m\u001b[0;34m,\u001b[0m \u001b[0;36m0.3\u001b[0m\u001b[0;34m)\u001b[0m\u001b[0;34m)\u001b[0m\u001b[0;34m\u001b[0m\u001b[0;34m\u001b[0m\u001b[0m\n\u001b[0m\u001b[1;32m     64\u001b[0m \u001b[0;31m# Write a function that calculate variance and mean of list $E\u001b[0m\u001b[0;34m\u001b[0m\u001b[0;34m\u001b[0m\u001b[0;34m\u001b[0m\u001b[0m\n\u001b[1;32m     65\u001b[0m \u001b[0;34m\u001b[0m\u001b[0m\n",
      "\u001b[0;32m<ipython-input-49-56229191e5f1>\u001b[0m in \u001b[0;36mmin_sq_error\u001b[0;34m(y, x, w1, w0)\u001b[0m\n\u001b[1;32m     22\u001b[0m         \u001b[0msquare_error\u001b[0m\u001b[0;34m.\u001b[0m\u001b[0mappend\u001b[0m\u001b[0;34m(\u001b[0m\u001b[0;34m(\u001b[0m \u001b[0my_pred\u001b[0m \u001b[0;34m-\u001b[0m \u001b[0my\u001b[0m\u001b[0;34m[\u001b[0m\u001b[0mi\u001b[0m\u001b[0;34m]\u001b[0m\u001b[0;34m)\u001b[0m\u001b[0;34m**\u001b[0m\u001b[0;36m2\u001b[0m\u001b[0;34m)\u001b[0m\u001b[0;34m\u001b[0m\u001b[0;34m\u001b[0m\u001b[0m\n\u001b[1;32m     23\u001b[0m     \u001b[0mmean_square_error\u001b[0m \u001b[0;34m=\u001b[0m \u001b[0mnp\u001b[0m\u001b[0;34m.\u001b[0m\u001b[0msum\u001b[0m\u001b[0;34m(\u001b[0m\u001b[0msquare_error\u001b[0m\u001b[0;34m)\u001b[0m\u001b[0;34m/\u001b[0m\u001b[0mN\u001b[0m\u001b[0;34m\u001b[0m\u001b[0;34m\u001b[0m\u001b[0m\n\u001b[0;32m---> 24\u001b[0;31m     \u001b[0mvariance_and_mean_of_E\u001b[0m\u001b[0;34m(\u001b[0m\u001b[0mmean_square_error\u001b[0m\u001b[0;34m)\u001b[0m\u001b[0;34m\u001b[0m\u001b[0;34m\u001b[0m\u001b[0m\n\u001b[0m\u001b[1;32m     25\u001b[0m     \u001b[0;32mreturn\u001b[0m \u001b[0mmean_square_error\u001b[0m\u001b[0;34m\u001b[0m\u001b[0;34m\u001b[0m\u001b[0m\n\u001b[1;32m     26\u001b[0m \u001b[0;31m# print(min_sq_error(y, x, 0.7, 0.3))\u001b[0m\u001b[0;34m\u001b[0m\u001b[0;34m\u001b[0m\u001b[0;34m\u001b[0m\u001b[0m\n",
      "\u001b[0;31mTypeError\u001b[0m: variance_and_mean_of_E() missing 1 required positional argument: 'x'"
     ]
    }
   ],
   "source": [
    "import numpy as np\n",
    "import matplotlib.pyplot as plt\n",
    "\n",
    "# Running Distance in Mile\n",
    "x = np.array([3.3,4.4,5.5,6.71,6.93,4.168,9.779,6.182,7.59,2.167,\n",
    "                         7.042,10.791,5.313,7.997,5.654,9.27,3.1])\n",
    "\n",
    "# Water Drinks in Litre\n",
    "y = np.array([1.7,2.76,2.09,3.19,1.694,1.573,3.366,2.596,2.53,1.221,\n",
    "                         2.827,3.465,1.65,2.904,2.42,2.94,1.3])\n",
    "\n",
    "# plt.scatter(x, y)\n",
    "# plt.xlabel('Running Distance (Mile)')\n",
    "# plt.ylabel('Water Drinks (Litre)')\n",
    "\n",
    "# Question 1\n",
    "def min_sq_error(y, x, w1, w0):\n",
    "    N = len(y)\n",
    "    square_error = []\n",
    "    for i in range(len(x)):\n",
    "        y_pred = w1*x[i] + w0\n",
    "        square_error.append(( y_pred - y[i])**2)  \n",
    "    mean_square_error = np.sum(square_error)/N\n",
    "    return mean_square_error\n",
    "# print(min_sq_error(y, x, 0.7, 0.3))\n",
    "# print(min_sq_error(y, x, 0.25163494, 0.79880123))\n",
    "\n",
    "\n",
    "# Question 2\n",
    "# print(\"mean of x\", np.mean(x))\n",
    "# print(\"mean of y\", np.mean(y))\n",
    "# x_times_y = []\n",
    "# x_squared = []\n",
    "# for i in range(len(x)):\n",
    "#     x_times_y.append(x[i]*y[i])\n",
    "#     x_squared.append(x[i]**2)\n",
    "# # print(x_times_y)\n",
    "# print(\"mean of x times y\", np.mean(x_times_y))\n",
    "# print(\"mean of x_squared\", np.mean(x_squared))\n",
    "# print(\"x_squared\", x_squared)\n",
    "\n",
    "# Question 3\n",
    "def slope_intercept_LR(x, y):\n",
    "    mean_x = np.mean(x)\n",
    "    mean_y = np.mean(y)\n",
    "    x_times_y = []\n",
    "    x_squared = []\n",
    "    for i in range(len(x)):\n",
    "        x_times_y.append(x[i]*y[i])\n",
    "        x_squared.append(x[i]**2)\n",
    "    mean_x_squared = np.mean(x_squared)\n",
    "    w1 = (np.mean(x_times_y) - (mean_x*mean_y))/(mean_x_squared - (mean_x)**2)\n",
    "#     print(w1)\n",
    "    w0 = mean_y - (mean_x*w1)\n",
    "    return w1, w0\n",
    "# print(slope_intercept_LR(x, y))\n",
    "# w1_w0 = slope_intercept_LR(x, y)\n",
    "# w1 = w1_w0[0]\n",
    "# w2 = w1_w0[1]\n",
    "# print(w1)\n",
    "# print(w0)\n",
    "print(min_sq_error(y, x, 0.7, 0.3))\n",
    "# Write a function that calculate variance and mean of list $E\n",
    "\n",
    "# def variance_and_mean_of_E(y, x):\n",
    "#     print(y)\n",
    "#     print(x)\n",
    "\n",
    "# variance_and_mean_of_E(y, x)"
   ]
  },
  {
   "cell_type": "code",
   "execution_count": null,
   "metadata": {},
   "outputs": [],
   "source": []
  }
 ],
 "metadata": {
  "kernelspec": {
   "display_name": "Python 3",
   "language": "python",
   "name": "python3"
  },
  "language_info": {
   "codemirror_mode": {
    "name": "ipython",
    "version": 3
   },
   "file_extension": ".py",
   "mimetype": "text/x-python",
   "name": "python",
   "nbconvert_exporter": "python",
   "pygments_lexer": "ipython3",
   "version": "3.7.4"
  }
 },
 "nbformat": 4,
 "nbformat_minor": 2
}
